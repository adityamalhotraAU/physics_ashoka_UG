{
 "cells": [
  {
   "cell_type": "code",
   "execution_count": 229,
   "metadata": {},
   "outputs": [],
   "source": [
    "import numpy as np\n",
    "import matplotlib.pyplot as plt\n",
    "from fits_library import linear_fit\n",
    "from scipy.interpolate import UnivariateSpline"
   ]
  },
  {
   "cell_type": "code",
   "execution_count": 230,
   "metadata": {},
   "outputs": [],
   "source": [
    "#constants\n",
    "R0 = 37\n",
    "T0 = 22.1 #temperature of the room when taking data\n",
    "boltzmann = 1.380649E-23 #boltzmann constant in SI units\n",
    "c = 3E8 #speed of light\n",
    "alpha = 4.5E-3\n",
    "min_deviation = 48.363 #this is just there not used in calculcations\n",
    "sensor0 = np.round(262.67+25/180, 3)"
   ]
  },
  {
   "cell_type": "code",
   "execution_count": 231,
   "metadata": {},
   "outputs": [],
   "source": [
    "def tempCalculate(voltage, current):\n",
    "    #Calculating temperature of the tungsten filament\n",
    "    return (T0 + ((voltage/current)/R0 - 1) / alpha)\n",
    "\n",
    "def refractiveIndexCalculate(angle):\n",
    "    #equation obtained from reference\n",
    "    return (np.sqrt(((2/np.sqrt(3))*np.sin(angle*(np.pi/180))+0.5)**2+0.75))\n",
    "\n",
    "def wavelengthCalculate(angle):\n",
    "    #Sellmeier Equation\n",
    "    #A = 0.0107, B = 0.7\n",
    "    #A calculated using scipy.optimize.curve_fit() on data from Thor Labs on F2 material dispersive prism\n",
    "    return ((0.0107/(np.sqrt(((2/np.sqrt(3))*np.sin(angle*(np.pi/180))+0.5)**2+0.75)-0.7)))\n",
    "\n",
    "def maximumIndex(array):\n",
    "    #returns the index of the maximum valued element in an array\n",
    "    #required to get the highest dispersed wavelength\n",
    "    return np.where(array == np.max(array))\n",
    "\n",
    "def curveFit(array1, array2, s = 5):\n",
    "    #returns a fit to data without a known function\n",
    "    return UnivariateSpline(array1, array2, s)"
   ]
  },
  {
   "cell_type": "code",
   "execution_count": 232,
   "metadata": {},
   "outputs": [],
   "source": [
    "#Voltage = 220 V, Current = 0.423 A\n",
    "\n",
    "T_220 = tempCalculate(220, 0.423)\n",
    "\n",
    "#loading raw data for angles and intensity\n",
    "angles_220, intensity_220 = np.loadtxt(\"./data/220V.txt\", unpack = True, delimiter = None)\n",
    "angles_220_real = angles_220 - sensor0 #actual angles considering the 0 of the sensor\n",
    "\n",
    "lambda_220 = wavelengthCalculate(angles_220_real)\n",
    "\n",
    "#scatter plot not really necessary but just to check the trend\n",
    "#plt.scatter(lambda_220, intensity_220)\n",
    "#plt.show()\n",
    "\n",
    "#maximum dispersed wavelength\n",
    "maxWavelength_220 = lambda_220[maximumIndex(intensity_220)][0]"
   ]
  },
  {
   "cell_type": "code",
   "execution_count": 233,
   "metadata": {},
   "outputs": [
    {
     "name": "stdout",
     "output_type": "stream",
     "text": [
      "0.011720868091155807\n"
     ]
    }
   ],
   "source": [
    "#Voltage = 210 V, Current = 0.412 A\n",
    "\n",
    "T_210 = tempCalculate(210, 0.412)\n",
    "\n",
    "#loading raw data for angles and intensity\n",
    "angles_210 = np.arange(300, 320.333, (1/3))\n",
    "intensity_210 = np.loadtxt(\"./data/210V.txt\", unpack = True, delimiter = None)\n",
    "angles_210_real = angles_210 - sensor0 #actual angles considering the 0 of the sensor\n",
    "\n",
    "lambda_210 = wavelengthCalculate(angles_210_real)\n",
    "\n",
    "#scatter plot not really necessary but just to check the trend\n",
    "#plt.scatter(lambda_210, intensity_210)\n",
    "#plt.show()\n",
    "\n",
    "#maximum dispersed wavelength\n",
    "maxWavelength_210 = lambda_210[maximumIndex(intensity_210)][0]\n",
    "print(maxWavelength_210)"
   ]
  },
  {
   "cell_type": "code",
   "execution_count": 234,
   "metadata": {},
   "outputs": [
    {
     "name": "stdout",
     "output_type": "stream",
     "text": [
      "0.011720868091155807\n"
     ]
    }
   ],
   "source": [
    "#Voltage = 190.5 V, Current = 0.391 A\n",
    "\n",
    "T_190 = tempCalculate(190.5, 0.391)\n",
    "\n",
    "#loading raw data for angles and intensity\n",
    "angles_190 = np.arange(300, 320.333, (1/3))\n",
    "intensity_190 = np.loadtxt(\"./data/190V.txt\", unpack = True, delimiter = None)\n",
    "angles_190_real = angles_190 - sensor0 #actual angles considering the 0 of the sensor\n",
    "\n",
    "lambda_190 = wavelengthCalculate(angles_190_real)\n",
    "\n",
    "#scatter plot not really necessary but just to check the trend\n",
    "#plt.scatter(lambda_190, intensity_190)\n",
    "#plt.show()\n",
    "\n",
    "#maximum dispersed wavelength\n",
    "maxWavelength_190 = lambda_190[maximumIndex(intensity_190)][0]\n",
    "print(maxWavelength_190)"
   ]
  },
  {
   "cell_type": "code",
   "execution_count": 235,
   "metadata": {},
   "outputs": [
    {
     "name": "stdout",
     "output_type": "stream",
     "text": [
      "0.012022735744955151\n"
     ]
    }
   ],
   "source": [
    "#Voltage = 180 V, Current = 0.375 A\n",
    "\n",
    "T_180 = tempCalculate(180, 0.375)\n",
    "\n",
    "#loading raw data for angles and intensity\n",
    "angles_180, intensity_180 = np.loadtxt(\"./data/180V.txt\", unpack = True, delimiter = None)\n",
    "angles_180_real = angles_180 - sensor0 #actual angles considering the 0 of the sensor\n",
    "\n",
    "lambda_180 = wavelengthCalculate(angles_180_real)\n",
    "\n",
    "#scatter plot not really necessary but just to check the trend\n",
    "#plt.scatter(lambda_180, intensity_180)\n",
    "#plt.show()\n",
    "\n",
    "#maximum dispersed wavelength\n",
    "maxWavelength_180 = lambda_180[maximumIndex(intensity_180)][0]\n",
    "print(maxWavelength_180)"
   ]
  },
  {
   "cell_type": "code",
   "execution_count": 236,
   "metadata": {},
   "outputs": [
    {
     "name": "stdout",
     "output_type": "stream",
     "text": [
      "0.012130096462640499\n"
     ]
    }
   ],
   "source": [
    "#Voltage = 170 V, Current = 0.368 A\n",
    "\n",
    "T_170 = tempCalculate(170, 0.368)\n",
    "\n",
    "#loading raw data for angles and intensity\n",
    "angles_170, intensity_170 = np.loadtxt(\"./data/170V.txt\", unpack = True, delimiter = None)\n",
    "angles_170_real = angles_170 - sensor0 #actual angles considering the 0 of the sensor\n",
    "\n",
    "lambda_170 = wavelengthCalculate(angles_170_real)\n",
    "refractiveIndex_170 = refractiveIndexCalculate(angles_170_real)\n",
    "\n",
    "#scatter plot not really necessary but just to check the trend\n",
    "#plt.scatter(lambda_170, intensity_170)\n",
    "#plt.show()\n",
    "\n",
    "#maximum dispersed wavelength\n",
    "maxWavelength_170 = lambda_170[maximumIndex(intensity_170)][0]\n",
    "print(maxWavelength_170)"
   ]
  },
  {
   "cell_type": "code",
   "execution_count": 237,
   "metadata": {},
   "outputs": [
    {
     "name": "stdout",
     "output_type": "stream",
     "text": [
      "0.012075242969511636\n"
     ]
    }
   ],
   "source": [
    "#Voltage = 160 V, Current = 0.357 A\n",
    "\n",
    "T_160 = tempCalculate(160, 0.357)\n",
    "\n",
    "#loading raw data for angles and intensity\n",
    "angles_160, intensity_160 = np.loadtxt(\"./data/160V.txt\", unpack = True, delimiter = None)\n",
    "angles_160_real = angles_160 - sensor0 #actual angles considering the 0 of the sensor\n",
    "\n",
    "lambda_160 = wavelengthCalculate(angles_160_real)\n",
    "refractiveIndex_160 = refractiveIndexCalculate(angles_160_real)\n",
    "\n",
    "#scatter plot not really necessary but just to check the trend\n",
    "#plt.scatter(lambda_160, intensity_160)\n",
    "#plt.show()\n",
    "\n",
    "#maximum dispersed wavelength\n",
    "maxWavelength_160 = lambda_160[maximumIndex(intensity_160)][0]\n",
    "print(maxWavelength_160)"
   ]
  },
  {
   "cell_type": "code",
   "execution_count": 238,
   "metadata": {},
   "outputs": [
    {
     "name": "stdout",
     "output_type": "stream",
     "text": [
      "[0.00030087 0.00031228 0.00032254]\n"
     ]
    }
   ],
   "source": [
    "#calculate wien's constant by drawing a graph of lambda_max versus 1/T\n",
    "lamba_array = np.array([maxWavelength_160, maxWavelength_170, maxWavelength_180]) * 10E-6\n",
    "temperature_array = np.array([T_160, T_170, T_180])\n",
    "\n",
    "wiens_constant = lamba_array*temperature_array #values for each maximum wavelength and temperature\n",
    "\n",
    "print(wiens_constant)"
   ]
  },
  {
   "cell_type": "code",
   "execution_count": 239,
   "metadata": {},
   "outputs": [
    {
     "name": "stdout",
     "output_type": "stream",
     "text": [
      "[-863.86436317 -828.66518341 -799.10987375]\n"
     ]
    }
   ],
   "source": [
    "#error in wien's constant\n",
    "wiens_real = 0.0029\n",
    "wiens_error = (wiens_constant - wiens_real)/wiens_constant * 100\n",
    "print(wiens_error)"
   ]
  },
  {
   "cell_type": "code",
   "execution_count": 240,
   "metadata": {},
   "outputs": [],
   "source": [
    "#error analysis from sellmeier equation\n",
    "\n",
    "d_lambda_160 = (107 * np.cos(angles_160_real*np.pi/180) * (4 * np.sin(angles_160_real * np.pi/180) + np.sqrt(3)))/(300 * \n",
    "                (np.sqrt(((2/np.sqrt(3))*np.sin(angles_160_real*(np.pi/180))+0.5)**2+0.75)) * \n",
    "                (10 * np.sqrt(((2/np.sqrt(3))*np.sin(angles_160_real*(np.pi/180))+0.5)**2+0.75) - 7)**2)\n",
    "\n",
    "d_lambda_170 = (107 * np.cos(angles_170_real*np.pi/180) * (4 * np.sin(angles_170_real * np.pi/180) + np.sqrt(3)))/(300 * \n",
    "                (np.sqrt(((2/np.sqrt(3))*np.sin(angles_170_real*(np.pi/180))+0.5)**2+0.75)) * \n",
    "                (10 * np.sqrt(((2/np.sqrt(3))*np.sin(angles_170_real*(np.pi/180))+0.5)**2+0.75) - 7)**2)\n",
    "\n",
    "d_lambda_180 = (107 * np.cos(angles_180_real*np.pi/180) * (4 * np.sin(angles_180_real * np.pi/180) + np.sqrt(3)))/(300 * \n",
    "                (np.sqrt(((2/np.sqrt(3))*np.sin(angles_180_real*(np.pi/180))+0.5)**2+0.75)) * \n",
    "                (10 * np.sqrt(((2/np.sqrt(3))*np.sin(angles_180_real*(np.pi/180))+0.5)**2+0.75) - 7)**2)\n",
    "\n",
    "\n",
    "#relative error in measuring temperature\n",
    "#dT = dT0 + (1/alpha) * (dR/R0 - 1)"
   ]
  },
  {
   "cell_type": "markdown",
   "metadata": {},
   "source": [
    "$$\\text{Part B: Planck's constant calculation}$$"
   ]
  },
  {
   "cell_type": "code",
   "execution_count": 241,
   "metadata": {},
   "outputs": [],
   "source": [
    "#h = ln(I1/I2) * lambda * ((T1 * T2)/(T1 - T2)) * (boltzmann/c)\n",
    "\n",
    "maxIntensity_180 = intensity_180[maximumIndex(intensity_180)]\n",
    "maxIntensity_170 = intensity_170[maximumIndex(intensity_170)]\n",
    "maxIntensity_160 = intensity_160[maximumIndex(intensity_160)]\n",
    "\n",
    "#suitable lambda values are averages of each maximum wavelength\n",
    "suitable_lambda1 = ((maxWavelength_160 + maxWavelength_180) / 2) * 10E-6\n",
    "suitable_lambda2 = ((maxWavelength_160 + maxWavelength_170) / 2) * 10E-6\n",
    "suitable_lambda3 = ((maxWavelength_170 + maxWavelength_180) / 2) * 10E-6"
   ]
  },
  {
   "cell_type": "code",
   "execution_count": 242,
   "metadata": {},
   "outputs": [
    {
     "name": "stdout",
     "output_type": "stream",
     "text": [
      "[1.43712943e-34] [2.47529347e-34] [5.94003619e-35]\n",
      "[[ -361.05798618]\n",
      " [ -167.68543084]\n",
      " [-1015.48141922]]\n"
     ]
    }
   ],
   "source": [
    "#h for 180 and 160 V\n",
    "plancks_constant_180_160 = np.log(maxIntensity_180/maxIntensity_160) * suitable_lambda1 * ((T_180 * T_160) / (T_180 - T_160)) * (boltzmann/c)\n",
    "\n",
    "#h for 170 and 160 V\n",
    "plancks_constant_170_160 = np.log(maxIntensity_170/maxIntensity_160) * suitable_lambda2 * ((T_170 * T_160) / (T_170 - T_160)) * (boltzmann/c)\n",
    "\n",
    "#h for 180 and 170 V\n",
    "plancks_constant_180_170 = np.log(maxIntensity_180/maxIntensity_170) * suitable_lambda3 * ((T_180 * T_170) / (T_180 - T_170)) * (boltzmann/c)\n",
    "\n",
    "print(plancks_constant_180_160, plancks_constant_170_160, plancks_constant_180_170)\n",
    "\n",
    "#planck's constant error \n",
    "plancks_real = 6.626E-34\n",
    "plancks_constant = np.array([plancks_constant_180_160, plancks_constant_170_160, plancks_constant_180_170])\n",
    "plancks_error = (plancks_constant - plancks_real)/plancks_constant * 100\n",
    "print(plancks_error)"
   ]
  },
  {
   "cell_type": "code",
   "execution_count": 243,
   "metadata": {},
   "outputs": [],
   "source": [
    "lambda_180_comparison = lambda_180[25:45]\n",
    "lambda_170_comparison = lambda_170[25:45]\n",
    "lambda_160_comparison = lambda_160[25:45]\n",
    "\n",
    "intensity_180_comparison = intensity_180[25:45]\n",
    "intensity_170_comparison = intensity_170[25:45]\n",
    "intensity_160_comparison = intensity_160[25:45]"
   ]
  },
  {
   "cell_type": "code",
   "execution_count": 244,
   "metadata": {},
   "outputs": [
    {
     "data": {
      "image/png": "[encoded data removed]",
      "text/plain": [
       "<Figure size 640x480 with 1 Axes>"
      ]
     },
     "metadata": {},
     "output_type": "display_data"
    }
   ],
   "source": [
    "plt.scatter(lambda_180_comparison, intensity_180_comparison, label = '2682.761 K')\n",
    "spline_180 = UnivariateSpline(lambda_180_comparison, intensity_180_comparison, s = 1)\n",
    "x_180 = np.linspace(lambda_180_comparison[0], lambda_180_comparison[len(lambda_180_comparison) -1], 500)\n",
    "y_180 = spline_180(x_180)\n",
    "plt.plot(x_180, y_180, '--')\n",
    "\n",
    "plt.scatter(lambda_170_comparison, intensity_170_comparison, label = '2574.391 K')\n",
    "spline_170 = UnivariateSpline(lambda_170_comparison, intensity_170_comparison, s = 1)\n",
    "x_170 = np.linspace(lambda_170_comparison[0], lambda_170_comparison[len(lambda_170_comparison) -1], 500)\n",
    "y_170 = spline_170(x_170)\n",
    "plt.plot(x_170, y_170, '--')\n",
    "\n",
    "plt.scatter(lambda_160_comparison, intensity_160_comparison, label = '2491.645 K')\n",
    "spline_160 = UnivariateSpline(lambda_160_comparison, intensity_160_comparison, s = 1)\n",
    "x_160 = np.linspace(lambda_160_comparison[0], lambda_160_comparison[len(lambda_160_comparison) -1], 500)\n",
    "y_160 = spline_160(x_160)\n",
    "plt.plot(x_160, y_160, '--')\n",
    "\n",
    "'''plt.scatter(lambda_180_comparison, intensity_180_comparison, label = '180V')\n",
    "spline_170 = curveFit(lambda_180_comparison, intensity_180_comparison)\n",
    "\n",
    "plt.scatter(lambda_160[25:45], intensity_160[25:45], label = '160V')\n",
    "plt.plot(lambda_160[25:45], intensity_160[25:45])'''\n",
    "\n",
    "\n",
    "plt.xlabel(u\"Wavelength (\\u03BCm)\")\n",
    "plt.ylabel(\"Relative Intensity (%)\")\n",
    "plt.legend()\n",
    "plt.show()"
   ]
  },
  {
   "cell_type": "code",
   "execution_count": 245,
   "metadata": {},
   "outputs": [
    {
     "name": "stdout",
     "output_type": "stream",
     "text": [
      "[2491.64517543 2574.39142186 2682.76066066] [1.20752430e-07 1.21300965e-07 1.20227357e-07]\n"
     ]
    }
   ],
   "source": [
    "print(temperature_array, lamba_array)"
   ]
  }
 ],
 "metadata": {
  "kernelspec": {
   "display_name": "Python 3",
   "language": "python",
   "name": "python3"
  },
  "language_info": {
   "codemirror_mode": {
    "name": "ipython",
    "version": 3
   },
   "file_extension": ".py",
   "mimetype": "text/x-python",
   "name": "python",
   "nbconvert_exporter": "python",
   "pygments_lexer": "ipython3",
   "version": "3.11.4"
  }
 },
 "nbformat": 4,
 "nbformat_minor": 2
}
